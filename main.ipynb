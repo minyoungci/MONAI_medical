{
 "cells": [
  {
   "cell_type": "code",
   "execution_count": 12,
   "metadata": {},
   "outputs": [],
   "source": [
    "import os \n",
    "from glob import glob\n",
    "\n",
    "import torch \n",
    "from monai.transforms import (\n",
    "    Compose,\n",
    "    LoadImaged,\n",
    "    ToTensord,\n",
    "    AddChanneld,\n",
    ")"
   ]
  },
  {
   "cell_type": "code",
   "execution_count": 2,
   "metadata": {},
   "outputs": [],
   "source": [
    "data_dir = '/home/minyoungxi/MINYOUNGXI/MONAI/datasets/Task01_BrainTumour'"
   ]
  },
  {
   "cell_type": "code",
   "execution_count": 11,
   "metadata": {},
   "outputs": [],
   "source": [
    "# 이미지와 레이블 이름 맞춰서 데이터 정리\n",
    "\n",
    "train_images = sorted(glob(os.path.join(data_dir, 'TrainData', '*.nii.gz')))\n",
    "train_labels = sorted(glob(os.path.join(data_dir, 'TrainLabels', '*.nii.gz')))\n",
    "\n",
    "val_images = sorted(glob(os.path.join(data_dir, 'ValData', '*.nii.gz')))\n",
    "val_labels = sorted(glob(os.path.join(data_dir, 'ValLabels', '*.nii.gz')))\n",
    "\n",
    "train_files = [{\"image\" :image_name, 'label': label_name} for image_name, label_name in zip(train_images, train_labels)]\n",
    "train_files = [{\"image\" :image_name, 'label': label_name} for image_name, label_name in zip(val_images, val_labels)]"
   ]
  },
  {
   "cell_type": "code",
   "execution_count": 14,
   "metadata": {},
   "outputs": [],
   "source": [
    "# load the images \n",
    "# do any transforms \n",
    "# need to convert them into torch tensors \n",
    "\n",
    "train_transforms = Compose(\n",
    "    [\n",
    "        LoadImaged(keys=['image', 'label']),\n",
    "        AddChanneld(keys=['image', 'label']),\n",
    "        ToTensord(keys=['image', 'labels'])\n",
    "    ]\n",
    "    \n",
    ")\n",
    "\n",
    "val_transforms = Compose(\n",
    "    [\n",
    "        LoadImaged(keys=['image', 'label']),\n",
    "        AddChanneld(keys=['image', 'label']),\n",
    "        ToTensord(keys=['image', 'labels'])\n",
    "    ]\n",
    "    \n",
    ")"
   ]
  },
  {
   "cell_type": "code",
   "execution_count": null,
   "metadata": {},
   "outputs": [],
   "source": []
  }
 ],
 "metadata": {
  "kernelspec": {
   "display_name": "base",
   "language": "python",
   "name": "python3"
  },
  "language_info": {
   "codemirror_mode": {
    "name": "ipython",
    "version": 3
   },
   "file_extension": ".py",
   "mimetype": "text/x-python",
   "name": "python",
   "nbconvert_exporter": "python",
   "pygments_lexer": "ipython3",
   "version": "3.8.16"
  },
  "orig_nbformat": 4
 },
 "nbformat": 4,
 "nbformat_minor": 2
}
